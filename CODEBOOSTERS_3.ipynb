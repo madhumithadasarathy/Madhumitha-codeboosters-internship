{
  "nbformat": 4,
  "nbformat_minor": 0,
  "metadata": {
    "colab": {
      "provenance": [],
      "authorship_tag": "ABX9TyMrEwrz4kzjm+2CvEbwLeJy",
      "include_colab_link": true
    },
    "kernelspec": {
      "name": "python3",
      "display_name": "Python 3"
    },
    "language_info": {
      "name": "python"
    }
  },
  "cells": [
    {
      "cell_type": "markdown",
      "metadata": {
        "id": "view-in-github",
        "colab_type": "text"
      },
      "source": [
        "<a href=\"https://colab.research.google.com/github/madhumithadasarathy/CODEBOOSTERS/blob/main/CODEBOOSTERS_3.ipynb\" target=\"_parent\"><img src=\"https://colab.research.google.com/assets/colab-badge.svg\" alt=\"Open In Colab\"/></a>"
      ]
    },
    {
      "cell_type": "code",
      "source": [
        "from PIL import Image\n",
        "from IPython.display import display, HTML, FileLink\n",
        "import io"
      ],
      "metadata": {
        "id": "HoA6KjdjCu6T"
      },
      "execution_count": 3,
      "outputs": []
    },
    {
      "cell_type": "code",
      "source": [
        "def convert_image(input_path, output_format):\n",
        "    try:\n",
        "        image = Image.open(input_path)\n",
        "        output_path = input_path.replace(\".png\", \".\" + output_format)\n",
        "        image.save(output_path, format=output_format)\n",
        "        display(FileLink(output_path, result_html))\n",
        "    except Exception as e:\n",
        "        result_html = f\"<p style='color:red;'>Error: {str(e)}</p>\"\n",
        "        display(HTML(result_html))"
      ],
      "metadata": {
        "id": "laq3VyNYCw01"
      },
      "execution_count": 4,
      "outputs": []
    },
    {
      "cell_type": "code",
      "source": [
        "# Display upload button\n",
        "upload_button = \"\"\"\n",
        "<script>\n",
        "function handleFileUpload(files) {\n",
        "    var file = files[0];\n",
        "    var reader = new FileReader();\n",
        "    reader.onload = function(e) {\n",
        "        google.colab.kernel.invokeFunction('notebook.convert_image', [e.target.result]);\n",
        "    };\n",
        "    reader.readAsDataURL(file);\n",
        "}\n",
        "</script>\n",
        "<input type=\"file\" onchange=\"handleFileUpload(this.files)\">\n",
        "\"\"\""
      ],
      "metadata": {
        "id": "v6JEPfgmCz6Y"
      },
      "execution_count": 5,
      "outputs": []
    },
    {
      "cell_type": "code",
      "source": [
        "# Display output format input and convert button\n",
        "output_format_input = \"<input type='text' placeholder='Output Format' id='output_format'>\"\n",
        "convert_button = \"<button onclick='convertImage()'>Convert</button>\""
      ],
      "metadata": {
        "id": "LqTDgk06C4wH"
      },
      "execution_count": 6,
      "outputs": []
    },
    {
      "cell_type": "code",
      "source": [
        "# JavaScript function to invoke Python function with base64 image data\n",
        "convert_image_js = \"\"\"\n",
        "<script>\n",
        "function convertImage() {\n",
        "    var imageData = document.querySelector('#notebook-container img').src.split(',')[1];\n",
        "    var outputFormat = document.querySelector('#output_format').value;\n",
        "    google.colab.kernel.invokeFunction('notebook.convert_image', [imageData, outputFormat]);\n",
        "}\n",
        "</script>\n",
        "\"\"\""
      ],
      "metadata": {
        "id": "96zh09Q7C7cL"
      },
      "execution_count": 7,
      "outputs": []
    },
    {
      "cell_type": "code",
      "source": [
        "# Display the image and UI components\n",
        "display(HTML(upload_button))\n",
        "display(HTML(output_format_input))\n",
        "display(HTML(convert_button))\n",
        "display(HTML(convert_image_js))"
      ],
      "metadata": {
        "colab": {
          "base_uri": "https://localhost:8080/",
          "height": 78
        },
        "id": "TsXwS8wmC-LW",
        "outputId": "5c2d7fb3-bd07-47a1-dfb7-3b706fbbd5c6"
      },
      "execution_count": 8,
      "outputs": [
        {
          "output_type": "display_data",
          "data": {
            "text/plain": [
              "<IPython.core.display.HTML object>"
            ],
            "text/html": [
              "\n",
              "<script>\n",
              "function handleFileUpload(files) {\n",
              "    var file = files[0];\n",
              "    var reader = new FileReader();\n",
              "    reader.onload = function(e) {\n",
              "        google.colab.kernel.invokeFunction('notebook.convert_image', [e.target.result]);\n",
              "    };\n",
              "    reader.readAsDataURL(file);\n",
              "}\n",
              "</script>\n",
              "<input type=\"file\" onchange=\"handleFileUpload(this.files)\">\n"
            ]
          },
          "metadata": {}
        },
        {
          "output_type": "display_data",
          "data": {
            "text/plain": [
              "<IPython.core.display.HTML object>"
            ],
            "text/html": [
              "<input type='text' placeholder='Output Format' id='output_format'>"
            ]
          },
          "metadata": {}
        },
        {
          "output_type": "display_data",
          "data": {
            "text/plain": [
              "<IPython.core.display.HTML object>"
            ],
            "text/html": [
              "<button onclick='convertImage()'>Convert</button>"
            ]
          },
          "metadata": {}
        },
        {
          "output_type": "display_data",
          "data": {
            "text/plain": [
              "<IPython.core.display.HTML object>"
            ],
            "text/html": [
              "\n",
              "<script>\n",
              "function convertImage() {\n",
              "    var imageData = document.querySelector('#notebook-container img').src.split(',')[1];\n",
              "    var outputFormat = document.querySelector('#output_format').value;\n",
              "    google.colab.kernel.invokeFunction('notebook.convert_image', [imageData, outputFormat]);\n",
              "}\n",
              "</script>\n"
            ]
          },
          "metadata": {}
        }
      ]
    },
    {
      "cell_type": "code",
      "source": [
        "# Define the Python function for image conversion\n",
        "def convert_image(image_data, output_format):\n",
        "    try:\n",
        "        image = Image.open(io.BytesIO(base64.b64decode(image_data)))\n",
        "        output_path = \"/content/converted_image.\" + output_format\n",
        "        image.save(output_path, format=output_format)\n",
        "        display(FileLink(output_path))\n",
        "    except Exception as e:\n",
        "        result_html = f\"<p style='color:red;'>Error: {str(e)}</p>\"\n",
        "        display(HTML(result_html))"
      ],
      "metadata": {
        "id": "kdEKw-_dDBaD"
      },
      "execution_count": 9,
      "outputs": []
    },
    {
      "cell_type": "code",
      "execution_count": 9,
      "metadata": {
        "id": "vGED8iKdBnCm"
      },
      "outputs": [],
      "source": [
        "\n",
        "\n",
        "\n",
        "\n",
        "\n",
        "\n",
        "\n",
        "\n",
        "\n",
        "\n",
        "\n",
        "\n",
        "\n",
        "\n",
        "\n"
      ]
    },
    {
      "cell_type": "code",
      "source": [],
      "metadata": {
        "id": "lED7lfNCBrLn"
      },
      "execution_count": 9,
      "outputs": []
    }
  ]
}