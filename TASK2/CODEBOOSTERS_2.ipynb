{
  "nbformat": 4,
  "nbformat_minor": 0,
  "metadata": {
    "colab": {
      "provenance": [],
      "authorship_tag": "ABX9TyP1cSfT7zPZtlnXcwRp8g0G",
      "include_colab_link": true
    },
    "kernelspec": {
      "name": "python3",
      "display_name": "Python 3"
    },
    "language_info": {
      "name": "python"
    }
  },
  "cells": [
    {
      "cell_type": "markdown",
      "metadata": {
        "id": "view-in-github",
        "colab_type": "text"
      },
      "source": [
        "<a href=\"https://colab.research.google.com/github/madhumithadasarathy/CODEBOOSTERS/blob/main/CODEBOOSTERS_2.ipynb\" target=\"_parent\"><img src=\"https://colab.research.google.com/assets/colab-badge.svg\" alt=\"Open In Colab\"/></a>"
      ]
    },
    {
      "cell_type": "code",
      "source": [
        "#Install the necessary libraries\n",
        "!pip install PyPDF2 PyMuPDF pytesseract pillow"
      ],
      "metadata": {
        "id": "duE2CkG_67KD"
      },
      "execution_count": null,
      "outputs": []
    },
    {
      "cell_type": "code",
      "source": [
        "#Import the necessary libraries\n",
        "import PyPDF2\n",
        "import pytesseract\n",
        "from PIL import Image\n",
        "import io\n",
        "import fitz"
      ],
      "metadata": {
        "id": "qWQ1TRNR9ZXL"
      },
      "execution_count": null,
      "outputs": []
    },
    {
      "cell_type": "code",
      "source": [
        "\n",
        "# Open the PDF file in read binary mode\n",
        "with open(\"/content/Sample.pdf\", \"rb\") as f:\n",
        "    # Create a PDF reader object\n",
        "    reader = PyPDF2.PdfReader(f)\n",
        "\n",
        "    # Iterate through pages and extract text\n",
        "    for page_num in range(len(reader.pages)):\n",
        "        # Get a specific page\n",
        "        page = reader.pages[page_num]\n",
        "\n",
        "        # Extract text from the page\n",
        "        text = page.extract_text()\n",
        "\n",
        "        # Process or store the extracted text\n",
        "        print(text)\n",
        "        # Save extracted text to a file (optional)\n",
        "        with open(f\"extracted_text_page_{page_num + 1}.txt\", \"w\") as output_file:\n",
        "            output_file.write(text)\n"
      ],
      "metadata": {
        "colab": {
          "base_uri": "https://localhost:8080/"
        },
        "id": "zJ9Ju2eu86z6",
        "outputId": "83e7f8c4-0dca-43bc-e4dd-ba6d871f5638"
      },
      "execution_count": 11,
      "outputs": [
        {
          "output_type": "stream",
          "name": "stdout",
          "text": [
            "This\n",
            "is\n",
            "a\n",
            "PDF\n",
            "for\n",
            "reference.\n"
          ]
        }
      ]
    },
    {
      "cell_type": "code",
      "source": [],
      "metadata": {
        "id": "wFeBCvUw9IfC"
      },
      "execution_count": null,
      "outputs": []
    }
  ]
}
